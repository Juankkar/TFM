{
 "cells": [
  {
   "cell_type": "markdown",
   "metadata": {},
   "source": [
    "# Example of the commands need it to execute the rules\n",
    "\n",
    "Not completlt necessary to follow this instructions, in some cases would be better to do some samples separated of each other."
   ]
  },
  {
   "cell_type": "markdown",
   "metadata": {},
   "source": [
    "## First time running the workflow (ie. chr3)"
   ]
  },
  {
   "cell_type": "markdown",
   "metadata": {},
   "source": [
    "This is how your config file and your_sample_list should look:"
   ]
  },
  {
   "cell_type": "markdown",
   "metadata": {},
   "source": [
    "* config.yaml:"
   ]
  },
  {
   "cell_type": "code",
   "execution_count": null,
   "metadata": {
    "vscode": {
     "languageId": "shellscript"
    }
   },
   "outputs": [],
   "source": [
    "#########################\n",
    "##  SNAKEFILE SAMPLES  ##\n",
    "#########################\n",
    "\n",
    "samples:\n",
    "  ERR696683_chr3: data/original_bam/filtering/ERR696683_chr3_sorted.bam \n",
    "  ERR753368_chr3: data/original_bam/filtering/ERR753368_chr3_sorted.bam \n",
    "  ERR753369_chr3: data/original_bam/filtering/ERR753369_chr3_sorted.bam\n",
    "  ERR753370_chr3: data/original_bam/filtering/ERR753370_chr3_sorted.bam\n",
    "  ERR753371_chr3: data/original_bam/filtering/ERR753371_chr3_sorted.bam\n",
    "  ERR753372_chr3: data/original_bam/filtering/ERR753372_chr3_sorted.bam\n",
    "  ERR753373_chr3: data/original_bam/filtering/ERR753373_chr3_sorted.bam\n",
    "  ERR753374_chr3: data/original_bam/filtering/ERR753374_chr3_sorted.bam\n",
    "  ERR753375_chr3: data/original_bam/filtering/ERR753375_chr3_sorted.bam\n",
    "  ERR753376_chr3: data/original_bam/filtering/ERR753376_chr3_sorted.bam\n",
    "  ERR753377_chr3: data/original_bam/filtering/ERR753377_chr3_sorted.bam\n",
    "  ERR753378_chr3: data/original_bam/filtering/ERR753378_chr3_sorted.bam\n",
    "\n",
    "########################\n",
    "##  SNAKEFILE PARAMS  ##\n",
    "########################\n",
    "\n",
    "## Choose your chromosome\n",
    "chromosome: chr3 \n",
    "# Chromosome 3, 5, 7, 12, 17 ENSEMBL:\n",
    "# https://ftp.ensembl.org/pub/release-109/fasta/homo_sapiens/dna/Homo_sapiens.GRCh38.dna.chromosome.3.fa.gz \n",
    "# https://ftp.ensembl.org/pub/release-109/fasta/homo_sapiens/dna/Homo_sapiens.GRCh38.dna.chromosome.5.fa.gz\n",
    "# https://ftp.ensembl.org/pub/release-109/fasta/homo_sapiens/dna/Homo_sapiens.GRCh38.dna.chromosome.7.fa.gz\n",
    "# https://ftp.ensembl.org/pub/release-109/fasta/homo_sapiens/dna/Homo_sapiens.GRCh38.dna.chromosome.12.fa.gz\n",
    "# https://ftp.ensembl.org/pub/release-109/fasta/homo_sapiens/dna/Homo_sapiens.GRCh38.dna.chromosome.17.fa.gz\n",
    "url_reference_genome: https://ftp.ensembl.org/pub/release-109/fasta/homo_sapiens/dna/Homo_sapiens.GRCh38.dna.chromosome.3.fa.gz\n",
    "\n",
    "## Fixing the fastq files, FASTP parameters:\n",
    "fastp_cuttail: 30\n",
    "fastp_cutfront: 30\n",
    "fastp_cutmeanq: 30\n",
    "fastp_length: 75\n",
    "\n",
    "## Extracting variants\n",
    "ref_genome_name_file: genome.fa\n",
    "# Min reads that has to be mapping to considerate a variant\n",
    "min_reads_variant: 5\n",
    "\n",
    "## Doing VEP for variant annotation\n",
    "vep_species: homo_sapiens\n",
    "vep_assembly: GRCh38\n",
    "\n",
    "## Gene That you want to filter in the VCF using R\n",
    "## PIK3CA (chromosome 3); APC (chromosome 5); BRAF (chromosome 7); KRAS (chromosome 12) ;TP53 (chromosome 17)\n",
    "gene_to_filterR: PIK3CA"
   ]
  },
  {
   "cell_type": "markdown",
   "metadata": {},
   "source": [
    "* your_sample_list.txt"
   ]
  },
  {
   "cell_type": "code",
   "execution_count": null,
   "metadata": {
    "vscode": {
     "languageId": "shellscript"
    }
   },
   "outputs": [],
   "source": [
    "ERR696683_chr3\n",
    "ERR753368_chr3\n",
    "ERR753369_chr3\n",
    "ERR753370_chr3\n",
    "ERR753371_chr3\n",
    "ERR753372_chr3\n",
    "ERR753373_chr3\n",
    "ERR753374_chr3\n",
    "ERR753375_chr3\n",
    "ERR753376_chr3\n",
    "ERR753377_chr3\n",
    "ERR753378_chr3"
   ]
  },
  {
   "cell_type": "markdown",
   "metadata": {},
   "source": [
    "* Copy each command, one by one"
   ]
  },
  {
   "cell_type": "code",
   "execution_count": null,
   "metadata": {
    "vscode": {
     "languageId": "shellscript"
    }
   },
   "outputs": [],
   "source": [
    "# 1 rule download data\n",
    "snakemake --cores 1 download_data\n",
    "# 2 rule pre_processing\n",
    "snakemake --cores 1 data/raw/ERR696683_chr3_sorted.bam\n",
    "# 3 rule reference_genome\n",
    "snakemake --cores 1 data/reference/genome.fa\n",
    "# 4 rule fastqc\n",
    "snakemake --cores 1 results/fastqc_results/ERR696683_chr3_1_fastqc.html ; snakemake --cores 1 results/fastqc_results/ERR7533{68..78}_chr3_1_fastqc.html  \n",
    "# 5 rule fastp\n",
    "snakemake --cores 1 data/processed/ERR696683_chr3_1_fastp.fastq.gz ; snakemake --cores 1 data/processed/ERR7533{68..78}_chr3_1_fastp.fastq.gz  \n",
    "# 6 rule fastqc_trimmed\n",
    "snakemake --cores 1 results/fastqc_results/trimmed/ERR696683_chr3_1_fastp_fastqc.html ; snakemake --cores 1 results/fastqc_results/trimmed/ERR7533{68..78}_chr3_1_fastp_fastqc.html  \n",
    "# 7 rule bwa_mapping\n",
    "snakemake --cores 1 results/mapped_reads/ERR696683_chr3_sorted.sam ; snakemake --cores 1 results/mapped_reads/ERR7533{68..78}_chr3_sorted.sam  \n",
    "# 8 rule sam_to_bam\n",
    "snakemake --cores 1 results/mapped_reads/bam_files/ERR696683_chr3_sorted.bam ; snakemake --cores 1 results/mapped_reads/bam_files/ERR7533{68..78}_chr3_sorted.bam  \n",
    "# 9 rule delete_duplicates\n",
    "snakemake --cores 1 results/mapped_reads/bam_files/ERR696683_chr3_dedup.bam ; snakemake --cores 1 results/mapped_reads/bam_files/ERR7533{68..78}_chr3_dedup.bam  \n",
    "# 10 rule extracting_variants\n",
    "snakemake --cores 1 results/variants/ERR696683_chr3.vcf ; snakemake --cores 1 results/variants/ERR7533{68..78}_chr3.vcf \n",
    "# 11 rule vep_install_db\n",
    "snakemake --cores 1 vep_install_db\n",
    "# 12 rule vep_cli\n",
    "snakemake --cores 1 results/variants/vep/ERR696683_chr3.txt ; snakemake --cores 1 results/variants/vep/ERR7533{68..78}_chr3.txt \n",
    "# 13 rule parsing_dataR\n",
    "snakemake --cores 1 parsing_dataR"
   ]
  },
  {
   "cell_type": "markdown",
   "metadata": {},
   "source": [
    "## Second Time (ie. chrx)"
   ]
  },
  {
   "cell_type": "markdown",
   "metadata": {},
   "source": [
    "* Change the values in the config.yaml and your_sample_list.\n",
    "* Chromosmes, reference_genome and the gene that you are looking for "
   ]
  },
  {
   "cell_type": "code",
   "execution_count": null,
   "metadata": {
    "vscode": {
     "languageId": "shellscript"
    }
   },
   "outputs": [],
   "source": [
    "# 2 rule pre_processing\n",
    "snakemake --cores 1 data/raw/ERR696683_chrx_sorted.bam\n",
    "# 3 rule reference_genome\n",
    "snakemake --cores 1 data/reference/genome.fa\n",
    "# 4 rule fastqc\n",
    "snakemake --cores 1 results/fastqc_results/ERR696683_chrx_1_fastqc.html ; snakemake --cores 1 results/fastqc_results/ERR7533{68..78}_chrx_1_fastqc.html  \n",
    "# 5 rule fastp\n",
    "snakemake --cores 1 data/processed/ERR696683_chrx_1_fastp.fastq.gz ; snakemake --cores 1 data/processed/ERR7533{68..78}_chrx_1_fastp.fastq.gz  \n",
    "# 6 rule fastqc_trimmed\n",
    "snakemake --cores 1 results/fastqc_results/trimmed/ERR696683_chrx_1_fastp_fastqc.html ; snakemake --cores 1 results/fastqc_results/trimmed/ERR7533{68..78}_chrx_1_fastp_fastqc.html  \n",
    "# 7 rule bwa_mapping\n",
    "snakemake --cores 1 results/mapped_reads/ERR696683_chrx_sorted.sam ; snakemake --cores 1 results/mapped_reads/ERR7533{68..78}_chrx_sorted.sam  \n",
    "# 8 rule sam_to_bam\n",
    "snakemake --cores 1 results/mapped_reads/bam_files/ERR696683_chrx_sorted.bam ; snakemake --cores 1 results/mapped_reads/bam_files/ERR7533{68..78}_chrx_sorted.bam  \n",
    "# 9 rule delete_duplicates\n",
    "snakemake --cores 1 results/mapped_reads/bam_files/ERR696683_chrx_dedup.bam ; snakemake --cores 1 results/mapped_reads/bam_files/ERR7533{68..78}_chrx_dedup.bam  \n",
    "# 10 rule extracting_variants\n",
    "snakemake --cores 1 results/variants/ERR696683_chrx.vcf ; snakemake --cores 1 results/variants/ERR7533{68..78}_chrx.vcf \n",
    "# 12 rule vep_cli\n",
    "snakemake --cores 1 results/variants/vep/ERR696683_chrx.txt ; snakemake --cores 1 results/variants/vep/ERR7533{68..78}_chrx.txt \n",
    "# 13 rule parsing_dataR\n",
    "snakemake --cores 1 parsing_dataR"
   ]
  },
  {
   "cell_type": "markdown",
   "metadata": {},
   "source": [
    "## After all chromosomes tables are create\n",
    "\n",
    "* In this case you can execute the last rule, for plotting your data in ggplot2"
   ]
  },
  {
   "cell_type": "code",
   "execution_count": null,
   "metadata": {
    "vscode": {
     "languageId": "shellscript"
    }
   },
   "outputs": [],
   "source": [
    "snakemake --cores 1 R_plotting"
   ]
  }
 ],
 "metadata": {
  "language_info": {
   "name": "python"
  },
  "orig_nbformat": 4
 },
 "nbformat": 4,
 "nbformat_minor": 2
}
