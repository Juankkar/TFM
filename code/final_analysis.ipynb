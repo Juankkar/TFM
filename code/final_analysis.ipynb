{
 "cells": [
  {
   "cell_type": "markdown",
   "id": "7e490edb",
   "metadata": {},
   "source": [
    "# Final anlalysis\n",
    "\n",
    "Now that we have some of the sample we are going to do some biostatistical analysis."
   ]
  },
  {
   "cell_type": "code",
   "execution_count": 1,
   "id": "0f514192",
   "metadata": {},
   "outputs": [],
   "source": [
    "## Libreries\n",
    "suppressPackageStartupMessages(suppressWarnings(library(tidyverse)))"
   ]
  },
  {
   "cell_type": "markdown",
   "id": "215a095e",
   "metadata": {},
   "source": [
    "## Now we are going to add self made functions in order to reduce the code that we are gonna use"
   ]
  },
  {
   "cell_type": "code",
   "execution_count": 12,
   "id": "eaa8c591",
   "metadata": {},
   "outputs": [],
   "source": [
    "## pre-processing, adding 0s\n",
    "pre_processed <- function(df,value1,value2,value3,\n",
    "                          vect1,vect2,vect3,\n",
    "                          value1_char,value2_char,value3_char){\n",
    "    body = expand.grid(value1=as.character(unique(as.character(vect1))),\n",
    "                       value2=as.character(unique(as.character(vect2))),\n",
    "                       value3=as.character(unique(as.character(vect3)))) %>% \n",
    "    left_join(\n",
    "        df, by=c(value1_char,value2_char,value3_char)\n",
    "        ) %>% \n",
    "    mutate(n=ifelse(is.na(n),0,n))\n",
    "}\n"
   ]
  },
  {
   "cell_type": "code",
   "execution_count": 2,
   "id": "5e9a22d6",
   "metadata": {},
   "outputs": [
    {
     "name": "stderr",
     "output_type": "stream",
     "text": [
      "\u001b[1mRows: \u001b[22m\u001b[34m30\u001b[39m \u001b[1mColumns: \u001b[22m\u001b[34m3\u001b[39m\n",
      "\u001b[36m──\u001b[39m \u001b[1mColumn specification\u001b[22m \u001b[36m────────────────────────────────────────────────────────────────────────────────────────────\u001b[39m\n",
      "\u001b[1mDelimiter:\u001b[22m \"\\t\"\n",
      "\u001b[31mchr\u001b[39m (2): biotype, sample\n",
      "\u001b[32mdbl\u001b[39m (1): n\n",
      "\n",
      "\u001b[36mℹ\u001b[39m Use `spec()` to retrieve the full column specification for this data.\n",
      "\u001b[36mℹ\u001b[39m Specify the column types or set `show_col_types = FALSE` to quiet this message.\n",
      "\u001b[1mRows: \u001b[22m\u001b[34m41\u001b[39m \u001b[1mColumns: \u001b[22m\u001b[34m3\u001b[39m\n",
      "\u001b[36m──\u001b[39m \u001b[1mColumn specification\u001b[22m \u001b[36m────────────────────────────────────────────────────────────────────────────────────────────\u001b[39m\n",
      "\u001b[1mDelimiter:\u001b[22m \"\\t\"\n",
      "\u001b[31mchr\u001b[39m (2): biotype, sample\n",
      "\u001b[32mdbl\u001b[39m (1): n\n",
      "\n",
      "\u001b[36mℹ\u001b[39m Use `spec()` to retrieve the full column specification for this data.\n",
      "\u001b[36mℹ\u001b[39m Specify the column types or set `show_col_types = FALSE` to quiet this message.\n",
      "\u001b[1mRows: \u001b[22m\u001b[34m33\u001b[39m \u001b[1mColumns: \u001b[22m\u001b[34m3\u001b[39m\n",
      "\u001b[36m──\u001b[39m \u001b[1mColumn specification\u001b[22m \u001b[36m────────────────────────────────────────────────────────────────────────────────────────────\u001b[39m\n",
      "\u001b[1mDelimiter:\u001b[22m \"\\t\"\n",
      "\u001b[31mchr\u001b[39m (2): biotype, sample\n",
      "\u001b[32mdbl\u001b[39m (1): n\n",
      "\n",
      "\u001b[36mℹ\u001b[39m Use `spec()` to retrieve the full column specification for this data.\n",
      "\u001b[36mℹ\u001b[39m Specify the column types or set `show_col_types = FALSE` to quiet this message.\n",
      "\u001b[1mRows: \u001b[22m\u001b[34m44\u001b[39m \u001b[1mColumns: \u001b[22m\u001b[34m3\u001b[39m\n",
      "\u001b[36m──\u001b[39m \u001b[1mColumn specification\u001b[22m \u001b[36m────────────────────────────────────────────────────────────────────────────────────────────\u001b[39m\n",
      "\u001b[1mDelimiter:\u001b[22m \"\\t\"\n",
      "\u001b[31mchr\u001b[39m (2): biotype, sample\n",
      "\u001b[32mdbl\u001b[39m (1): n\n",
      "\n",
      "\u001b[36mℹ\u001b[39m Use `spec()` to retrieve the full column specification for this data.\n",
      "\u001b[36mℹ\u001b[39m Specify the column types or set `show_col_types = FALSE` to quiet this message.\n"
     ]
    }
   ],
   "source": [
    "## reading the data ##\n",
    "\n",
    "# Biotype\n",
    "apc_biotype <- read_tsv(\"../results/results_workflow/chromosome5/biotype.tsv\") %>%\n",
    "    mutate(gene=\"APC\") \n",
    "braf_biotype <- read_tsv(\"../results/results_workflow/chromosome7/biotype.tsv\") %>%\n",
    "    mutate(gene=\"BRAF\")\n",
    "kras_biotype <- read_tsv(\"../results/results_workflow/chromosome12/biotype.tsv\") %>%\n",
    "    mutate(gene=\"KRAS\")\n",
    "tp53_biotype <- read_tsv(\"../results/results_workflow/chromosome17/biotype.tsv\") %>%\n",
    "    mutate(gene=\"TP53\")"
   ]
  },
  {
   "cell_type": "code",
   "execution_count": 8,
   "id": "2b90ece6",
   "metadata": {},
   "outputs": [],
   "source": [
    "## Joining the data\n",
    "biotype <- rbind(apc_biotype,braf_biotype,tp53_biotype,kras_biotype)  "
   ]
  },
  {
   "cell_type": "markdown",
   "id": "d253a882",
   "metadata": {},
   "source": [
    "## Now we will do a preprocessing for our data.\n",
    "\n",
    "the reason behind that is becouse it has a problem. When one of the values (biotype, conscuences, clinical significance...) didn't appear in one of the samples, R by default will considerate that that particular value does not exist instead that its actually 0 in reality.\n",
    "\n",
    "So with this chunk of code we solve that problem\n",
    "\n",
    "* We will add 0s where there is not a particular value for one of the samples!\n",
    "* We also will separate the chromosomes from the samples "
   ]
  },
  {
   "cell_type": "code",
   "execution_count": 14,
   "id": "d3030daa",
   "metadata": {},
   "outputs": [],
   "source": [
    "## Pre-processing the data\n",
    "df_biotype <- expand.grid(biotype=as.character(unique(as.character(biotype$biotype))),\n",
    "                          sample=as.character(unique(as.character(biotype$sample))),\n",
    "                          gene=as.character(unique(as.character(biotype$gene)))) %>% \n",
    "    left_join(\n",
    "        biotype, by=c(\"biotype\",\"sample\",\"gene\")\n",
    "        ) %>% \n",
    "    mutate(n=ifelse(is.na(n),0,n)) %>%\n",
    "    separate_wider_delim(sample,delim = \"_\", names = c(\"sample\", \"chr\")) %>%\n",
    "    select(-\"chr\") \n",
    "\n"
   ]
  },
  {
   "cell_type": "markdown",
   "id": "e2303f60",
   "metadata": {},
   "source": [
    "## Starting point for the analysis"
   ]
  },
  {
   "cell_type": "markdown",
   "id": "0feb524e",
   "metadata": {},
   "source": [
    "### We will start from the differents biotypes of the variants for each gene"
   ]
  },
  {
   "cell_type": "code",
   "execution_count": 46,
   "id": "a8f6a131",
   "metadata": {},
   "outputs": [
    {
     "name": "stderr",
     "output_type": "stream",
     "text": [
      "\u001b[1m\u001b[22m`summarise()` has grouped output by 'gene'. You can override using the `.groups` argument.\n",
      "\u001b[1m\u001b[22m`summarise()` has grouped output by 'sample'. You can override using the `.groups` argument.\n",
      "Warning message:\n",
      "“\u001b[1m\u001b[22mRemoved 2 rows containing missing values (`geom_bar()`).”\n",
      "Warning message:\n",
      "“\u001b[1m\u001b[22mRemoved 1 rows containing missing values (`geom_bar()`).”\n"
     ]
    }
   ],
   "source": [
    "## Ploting ggplot2 biotype-genes\n",
    "biotype_genes <- df_biotype %>%\n",
    "    group_by(gene,biotype) %>%\n",
    "    summarise(n=sum(n)) %>%\n",
    "    mutate(biotype=factor(biotype,\n",
    "                          levels = c(\"protein_coding\", \"protein_coding_CDS_not_defined\", \n",
    "                                     \"nonsense_mediated_decay\", \"retained_intron\"),\n",
    "                          labels = c(\"Portein coding\", \"Protein coding (not define)\",\n",
    "                                     \"Nonsense mediated decay\", \"Retained intron\"))) %>%\n",
    "    ggplot(aes(reorder(gene,n),n, fill=biotype)) +\n",
    "    geom_bar(stat=\"identity\",position=position_dodge(.65), width=.5,\n",
    "             color=\"black\") +\n",
    "    scale_y_continuous(expand=expansion(0),\n",
    "                       limits=c(0,270),\n",
    "                       breaks=seq(0,250,25)) +\n",
    "    scale_fill_manual(values=c(\"darkgray\",\"red\", \"blue\", \"forestgreen\")) +\n",
    "    labs(\n",
    "        title=\"Variant biotypes per genes\",\n",
    "        x=\"Samples\",\n",
    "        y=\"Number of variants\",\n",
    "        fill=\"Biotype\"\n",
    "    ) +\n",
    "    theme_classic() +\n",
    "    theme(\n",
    "        plot.title=element_text(hjust=.5, face=\"bold\", size=14),\n",
    "        axis.title=element_text(face=\"bold\", size=12),\n",
    "        axis.text=element_text(color=\"black\", size=10),\n",
    "        axis.ticks=element_blank(),\n",
    "        legend.position=c(.3,.8),\n",
    "        legend.background=element_rect(color=\"black\")\n",
    "    )\n",
    "\n",
    "\n",
    "\n",
    "## Plotting ggplot2 biotype-samples\n",
    "\n",
    "levs <- sort(unique(df_biotype$sample))\n",
    "\n",
    "biotype_samples <-  df_biotype %>%\n",
    "    group_by(sample,biotype) %>%\n",
    "    summarise(n=sum(n)) %>%\n",
    "    mutate(sample=factor(sample,\n",
    "                          levels = levs),\n",
    "          biotype=factor(biotype,\n",
    "                          levels = c(\"protein_coding\", \"protein_coding_CDS_not_defined\", \n",
    "                                     \"nonsense_mediated_decay\", \"retained_intron\"),\n",
    "                          labels = c(\"Portein coding\", \"Protein coding (not define)\",\n",
    "                                     \"Nonsense mediated decay\", \"Retained intron\"))) %>% \n",
    "    ggplot(aes(sample,n, fill=biotype)) +\n",
    "    geom_bar(stat=\"identity\",position=position_dodge(.65), width=.5,\n",
    "             color=\"black\") +\n",
    "    scale_y_continuous(expand=expansion(0),\n",
    "                       limits=c(0,270),\n",
    "                       breaks=seq(0,250,25)) +\n",
    "    scale_fill_manual(values=c(\"darkgray\",\"red\", \"blue\", \"forestgreen\")) +\n",
    "    labs(\n",
    "        title=\"Variant biotypes per sample\",\n",
    "        x=\"Samples\",\n",
    "        y=\"Number of variants\",\n",
    "        fill=\"Biotype\"\n",
    "    ) +\n",
    "    theme_classic() +\n",
    "    theme(\n",
    "        plot.title=element_text(hjust=.5, face=\"bold\", size=14),\n",
    "        axis.title=element_text(face=\"bold\", size=12),\n",
    "        axis.text=element_text(color=\"black\", size=10),\n",
    "        axis.ticks=element_blank(),\n",
    "        legend.position=\"top\",\n",
    "        #legend.background=element_rect(color=\"black\")\n",
    "    )\n",
    "\n",
    "ggsave(file = \"../results/results_workflow/plots_workflow/plots/biotype_genes.png\",\n",
    "       plot = biotype_genes,\n",
    "       width = 7,\n",
    "       heigh = 5)\n",
    "\n",
    "ggsave(file = \"../results/results_workflow/plots_workflow/plots/biotype_samples.png\",\n",
    "       plot = biotype_samples,\n",
    "       width = 10,\n",
    "       heigh = 5)"
   ]
  },
  {
   "cell_type": "code",
   "execution_count": 30,
   "id": "9cfc68e2",
   "metadata": {},
   "outputs": [
    {
     "data": {
      "text/html": [
       "<style>\n",
       ".list-inline {list-style: none; margin:0; padding: 0}\n",
       ".list-inline>li {display: inline-block}\n",
       ".list-inline>li:not(:last-child)::after {content: \"\\00b7\"; padding: 0 .5ex}\n",
       "</style>\n",
       "<ol class=list-inline><li>'ERR696683'</li><li>'ERR753368'</li><li>'ERR753369'</li><li>'ERR753370'</li><li>'ERR753371'</li><li>'ERR753372'</li><li>'ERR753373'</li><li>'ERR753374'</li><li>'ERR753375'</li><li>'ERR753376'</li><li>'ERR753377'</li><li>'ERR753378'</li></ol>\n"
      ],
      "text/latex": [
       "\\begin{enumerate*}\n",
       "\\item 'ERR696683'\n",
       "\\item 'ERR753368'\n",
       "\\item 'ERR753369'\n",
       "\\item 'ERR753370'\n",
       "\\item 'ERR753371'\n",
       "\\item 'ERR753372'\n",
       "\\item 'ERR753373'\n",
       "\\item 'ERR753374'\n",
       "\\item 'ERR753375'\n",
       "\\item 'ERR753376'\n",
       "\\item 'ERR753377'\n",
       "\\item 'ERR753378'\n",
       "\\end{enumerate*}\n"
      ],
      "text/markdown": [
       "1. 'ERR696683'\n",
       "2. 'ERR753368'\n",
       "3. 'ERR753369'\n",
       "4. 'ERR753370'\n",
       "5. 'ERR753371'\n",
       "6. 'ERR753372'\n",
       "7. 'ERR753373'\n",
       "8. 'ERR753374'\n",
       "9. 'ERR753375'\n",
       "10. 'ERR753376'\n",
       "11. 'ERR753377'\n",
       "12. 'ERR753378'\n",
       "\n",
       "\n"
      ],
      "text/plain": [
       " [1] \"ERR696683\" \"ERR753368\" \"ERR753369\" \"ERR753370\" \"ERR753371\" \"ERR753372\"\n",
       " [7] \"ERR753373\" \"ERR753374\" \"ERR753375\" \"ERR753376\" \"ERR753377\" \"ERR753378\""
      ]
     },
     "metadata": {},
     "output_type": "display_data"
    }
   ],
   "source": [
    "sort(unique(df_biotype$sample))"
   ]
  }
 ],
 "metadata": {
  "kernelspec": {
   "display_name": "R",
   "language": "R",
   "name": "ir"
  },
  "language_info": {
   "codemirror_mode": "r",
   "file_extension": ".r",
   "mimetype": "text/x-r-source",
   "name": "R",
   "pygments_lexer": "r",
   "version": "4.2.2"
  }
 },
 "nbformat": 4,
 "nbformat_minor": 5
}
