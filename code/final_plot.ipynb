{
 "cells": [
  {
   "cell_type": "code",
   "execution_count": 5,
   "id": "5ab7c903",
   "metadata": {},
   "outputs": [],
   "source": [
    "suppressMessages({\n",
    "        library(tidyverse)\n",
    "})"
   ]
  },
  {
   "cell_type": "code",
   "execution_count": 21,
   "id": "044a07a4",
   "metadata": {},
   "outputs": [],
   "source": [
    "## Reading the data\n",
    "suppressMessages(suppressWarnings({\n",
    "    apc <- read_tsv(\"../results/biostatistics/joined_tables/APC.tsv\")\n",
    "    braf <- read_tsv(\"../results/biostatistics/joined_tables/BRAF.tsv\")\n",
    "    kras <- read_tsv(\"../results/biostatistics/joined_tables/KRAS.tsv\")\n",
    "    pik3ca <- read_tsv(\"../results/biostatistics/joined_tables/PIK3CA.tsv\")\n",
    "}))\n"
   ]
  },
  {
   "cell_type": "code",
   "execution_count": 34,
   "id": "2d3be5f1",
   "metadata": {},
   "outputs": [],
   "source": [
    "## Processing to get the values that we want\n",
    "\n",
    "df_apc <- apc %>%\n",
    "    select(\"sample\",\"symbol\") %>% \n",
    "    separate_wider_delim(sample, delim=\"_\", names=c(\"sample\",\"chr\")) %>% \n",
    "    select(-\"chr\") \n",
    "\n",
    "df_braf <- braf %>%\n",
    "    select(\"sample\",\"symbol\") %>% \n",
    "    separate_wider_delim(sample, delim=\"_\", names=c(\"sample\",\"chr\")) %>% \n",
    "    select(-\"chr\") \n",
    "\n",
    "df_kras <- kras %>%\n",
    "    select(\"sample\",\"symbol\") %>% \n",
    "    separate_wider_delim(sample, delim=\"_\", names=c(\"sample\",\"chr\")) %>% \n",
    "    select(-\"chr\") \n",
    "\n",
    "df_pik3ca <- pik3ca %>%\n",
    "    select(\"sample\",\"symbol\") %>% \n",
    "    separate_wider_delim(sample, delim=\"_\", names=c(\"sample\",\"chr\")) %>% \n",
    "    select(-\"chr\") \n"
   ]
  },
  {
   "cell_type": "code",
   "execution_count": 49,
   "id": "c378515a",
   "metadata": {},
   "outputs": [],
   "source": [
    "## Joining the data together\n",
    "suppressMessages(suppressWarnings({\n",
    "    df_genes <- rbind(df_apc,df_braf,df_kras,df_pik3ca) %>%\n",
    "        group_by(sample,symbol) %>%\n",
    "        summarise(n=n())\n",
    "    \n",
    "    df_genes_processed <- expand.grid(sample=as.character(unique(as.character(df_genes$sample))),\n",
    "                                      symbol=as.character(unique(as.character(df_genes$symbol)))) %>% \n",
    "    left_join(\n",
    "        df_genes, by=c(\"sample\",\"symbol\")\n",
    "        ) %>% \n",
    "    mutate(n=ifelse(is.na(n),0,n)) \n",
    "}))"
   ]
  },
  {
   "cell_type": "code",
   "execution_count": 69,
   "id": "f3efce96",
   "metadata": {},
   "outputs": [],
   "source": [
    "## Plotting the data\n",
    "final_plot <- df_genes_processed %>%\n",
    "    mutate(\n",
    "        sample=factor(sample,\n",
    "                      levels=sort(unique(df_genes$sample))),\n",
    "        symbol=factor(symbol,\n",
    "                      levels=c(\"PIK3CA\",\"APC\",\"BRAF\",\"KRAS\"))\n",
    "    ) %>%\n",
    "    ggplot(aes(sample, n, fill=symbol)) +\n",
    "    geom_bar(stat=\"identity\", color=\"black\", \n",
    "             position=position_dodge()) +\n",
    "    scale_fill_manual(values=c(\"white\",\"gray\",\"black\",\"orange\")) +\n",
    "    scale_y_continuous(expand=expansion(0),\n",
    "                       limits=c(0,100),\n",
    "                       breaks=seq(0,100,25)) +\n",
    "    labs(\n",
    "        title = \"Distribution of the number of genes per samples\",\n",
    "        x = \"Samples\",\n",
    "        y = \"Number of variants\"\n",
    "    ) +\n",
    "    theme_classic() +\n",
    "    theme(\n",
    "        plot.title=element_text(hjust=.5,size=16,face=\"bold\"),\n",
    "        axis.title=element_text(face=\"bold\", size=14),\n",
    "        axis.text=element_text(color=\"black\", size=10),\n",
    "        legend.position=\"top\"\n",
    "    )\n",
    "\n",
    "ggsave(file=\"../results/biostatistics/plots/final_plot.png\",\n",
    "       plot=final_plot,\n",
    "       heigh=5,\n",
    "       width=10)\n"
   ]
  },
  {
   "cell_type": "code",
   "execution_count": 42,
   "id": "524f120b",
   "metadata": {},
   "outputs": [],
   "source": [
    "?ggsave()"
   ]
  }
 ],
 "metadata": {
  "kernelspec": {
   "display_name": "R",
   "language": "R",
   "name": "ir"
  },
  "language_info": {
   "codemirror_mode": "r",
   "file_extension": ".r",
   "mimetype": "text/x-r-source",
   "name": "R",
   "pygments_lexer": "r",
   "version": "4.2.2"
  }
 },
 "nbformat": 4,
 "nbformat_minor": 5
}
