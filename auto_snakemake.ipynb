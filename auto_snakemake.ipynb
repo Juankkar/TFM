{
 "cells": [
  {
   "cell_type": "markdown",
   "metadata": {},
   "source": [
    "# **Automation of the CLI commands of the Snakemake workflow**"
   ]
  },
  {
   "cell_type": "markdown",
   "metadata": {},
   "source": [
    "This Jupyter Notebook has the objective of automating Snakemake commands.\n",
    "\n",
    "While it can be useful for quick tasks, using this instead of the command line may not provide you with the ability to access some of Snakemake's advanced features."
   ]
  },
  {
   "cell_type": "markdown",
   "metadata": {},
   "source": [
    "* Environment to use: [Greference_tools](code/environments/Greference_tools.yml)"
   ]
  },
  {
   "cell_type": "code",
   "execution_count": 2,
   "metadata": {},
   "outputs": [],
   "source": [
    "## Libreries\n",
    "import subprocess\n",
    "import os\n",
    "import re"
   ]
  },
  {
   "cell_type": "code",
   "execution_count": null,
   "metadata": {},
   "outputs": [],
   "source": [
    "## lists for the loops\n",
    "chr_list        = [\"chr3\", \"chr5\", \"chr7\", \"chr12\", \"chr17\"]\n",
    "\n",
    "sample_list     = [\"ERR696683\", \"ERR753368\", \"ERR753369\" ,\"ERR753370\" ,\"ERR753371\" ,\"ERR753372\", \n",
    "                  \"ERR753373\", \"ERR753374\", \"ERR753375\", \"ERR753376\", \"ERR753377\", \"ERR753378\"]\n"
   ]
  },
  {
   "cell_type": "markdown",
   "metadata": {},
   "source": [
    "1. **rule download_data**"
   ]
  },
  {
   "cell_type": "code",
   "execution_count": null,
   "metadata": {},
   "outputs": [],
   "source": [
    "subprocess.run([\"snakemake\", \"--cores\", \"1\", \"download_data\"])"
   ]
  },
  {
   "cell_type": "markdown",
   "metadata": {},
   "source": [
    "* rule pre_processing\n",
    "\n",
    "Filtering the chromosomes, make sure that the chromosomes of the config file are **ch3**. "
   ]
  },
  {
   "cell_type": "code",
   "execution_count": null,
   "metadata": {},
   "outputs": [],
   "source": [
    "## Running the 3º chromosome\n",
    "subprocess.run([\"snakemake\", \"--cores\", \"1\", \"data/original_bam/filtering/ERR696683_chr3_sorted.bam\"])\n",
    "\n",
    "## Running the rest of the chromosomes\n",
    "for chr in range(len(chr_list) - 1):\n",
    "    chr1 = chr_list[chr]\n",
    "    chr2 = chr_list[chr + 1]\n",
    "    \n",
    "    print(\"\"\"\n",
    "          Chromosomes transformed:\n",
    "          \"\"\", chr1, chr2)\n",
    "    \n",
    "    subprocess.run([\"sed\", \"-i\", \"6,+12s/\" + chr1 + \"/\" + chr2 + \"/g\", \"config.yaml\"])\n",
    "    subprocess.run([\"sed\", \"-i\", \"39s/\" + chr1 + \"/\" + chr2 + \"/g\", \"config.yaml\"])\n",
    "\n",
    "    subprocess.run([\"snakemake\", \"--cores\", \"1\", \"data/original_bam/filtering/ERR696683_\" + chr2 + \"_sorted.bam\"])"
   ]
  },
  {
   "cell_type": "code",
   "execution_count": null,
   "metadata": {},
   "outputs": [],
   "source": [
    "## reset config \n",
    "subprocess.run([\"sed\", \"-i\", \"6,+12s/chr17/chr3/g\", \"config.yaml\"])\n",
    "subprocess.run([\"sed\", \"-i\", \"39s/chr17/chr3/g\", \"config.yaml\"])"
   ]
  },
  {
   "cell_type": "markdown",
   "metadata": {},
   "source": [
    "* rules reference_genome; fastqc; fastp; fastqc_trimmed; bwa_mapping; sam_to_bam; delete_duplicates; extracting_variants; vep_install; vep_cli; parsing_dataR"
   ]
  },
  {
   "cell_type": "code",
   "execution_count": null,
   "metadata": {},
   "outputs": [],
   "source": [
    "## Running the workflow for the 3º chormosome\n",
    "\n",
    "subprocess.run([\"snakemake\", \"--cores\", \"1\", \"data/reference/genome.fa\"]) ## rule reference_genome \n",
    "\n",
    "for sample in sample_list:\n",
    "    ## Quality inspection\n",
    "    subprocess.run([\"snakemake\", \"--cores\", \"1\", \"--use-conda\",\n",
    "                    \"results/fastqc_result/\" + sample + \"_chr3_1_fastqc.html\",   \n",
    "                    \"data/processed/\" + sample + \"_chr3_1_fastp.fastq.gz\",   \n",
    "                    \"results/fastqc_result/trimmed/\" + sample + \"_chr3_1_fastp_fastqc.html\"])\n",
    "    \n",
    "for sample in sample_list:\n",
    "    ## Mapping reads\n",
    "    subprocess.run([\"snakemake\", \"--cores\", \"1\", \"--use-conda\",\n",
    "                    \"results/mapped_reads/\" + sample + \"_chr3_sorted.sam\",   \n",
    "                    \"results/mapped_reads/bam_files/\" + sample + \"_chr3_sorted.bam\",   \n",
    "                    \"results/mapped_reads/bam_files/\" + sample + \"_chr3_dedup.bam\"])\n",
    "    \n",
    "for sample in sample_list:\n",
    "    # Extracting variants  \n",
    "    subprocess.run([\"snakemake\", \"--cores\", \"1\", \"--use-conda\", \"results/variants/\" + sample + \"_chr3.vcf\"])   \n",
    "\n",
    "## Downloading VEP\n",
    "subprocess.run([\"snakemake\", \"--cores\", \"1\", \"--use-conda\", \"vep_install_db\"])\n",
    "## VEP CLI\n",
    "for sample in sample_list:\n",
    "    subprocess.run([\"snakemake\", \"--cores\", \"1\", \"--use-conda\", \"results/variants/vep/\" + sample + \"_chr3.txt\"])\n",
    "\n",
    "## Extracting the gene PIKCA3 from the VEP files\n",
    "subprocess.run([\"snakemake\", \"--cores\", \"1\", \"parsing_dataR\"])\n"
   ]
  },
  {
   "cell_type": "markdown",
   "metadata": {},
   "source": [
    "## Changing the config file to do the chromosome 5"
   ]
  },
  {
   "cell_type": "code",
   "execution_count": 5,
   "metadata": {},
   "outputs": [],
   "source": [
    "changes_chr3_to_5 = [\"6,+12s/chr3/chr5/g\", \"24,+12s/chr3/chr5/g\", \"39s/chr3/chr5/g\",\n",
    "                    \"46s/chromosome.3.fa.gz/chromosome.5.fa.gz/g\", \"65s/PIK3CA/APC/g\"]\n",
    "for change in changes_chr3_to_5:\n",
    "    subprocess.run([\"sed\", \"-i\", change, \"config.yaml\"])"
   ]
  },
  {
   "cell_type": "code",
   "execution_count": null,
   "metadata": {},
   "outputs": [],
   "source": [
    "## Running the workflow for the 5º chormosome\n",
    "\n",
    "subprocess.run([\"snakemake\", \"--cores\", \"1\", \"--force\", \"data/reference/genome.fa\"]) ## rule reference_genome \n",
    "\n",
    "for sample in sample_list:\n",
    "    ## Quality inspection\n",
    "    subprocess.run([\"snakemake\", \"--cores\", \"1\", \"--use-conda\",\n",
    "                    \"results/fastqc_result/\" + sample + \"_chr5_1_fastqc.html\",   \n",
    "                    \"data/processed/\" + sample + \"_chr5_1_fastp.fastq.gz\",   \n",
    "                    \"results/fastqc_result/trimmed/\" + sample + \"_chr5_1_fastp_fastqc.html\"])\n",
    "    \n",
    "for sample in sample_list:\n",
    "    ## Mapping reads\n",
    "    subprocess.run([\"snakemake\", \"--cores\", \"1\", \"--use-conda\",\n",
    "                    \"results/mapped_reads/\" + sample + \"_chr5_sorted.sam\",   \n",
    "                    \"results/mapped_reads/bam_files/\" + sample + \"_chr5_sorted.bam\",   \n",
    "                    \"results/mapped_reads/bam_files/\" + sample + \"_chr5_dedup.bam\"])\n",
    "    \n",
    "for sample in sample_list:\n",
    "    # Extracting variants  \n",
    "    subprocess.run([\"snakemake\", \"--cores\", \"1\", \"--use-conda\", \"results/variants/\" + sample + \"_chr5.vcf\"])   \n",
    "\n",
    "## VEP CLI\n",
    "for sample in sample_list:\n",
    "    subprocess.run([\"snakemake\", \"--cores\", \"1\", \"--use-conda\", \"results/variants/vep/\" + sample + \"_chr5.txt\"])\n",
    "\n",
    "## Extracting the gene PIKCA3 from the VEP files\n",
    "subprocess.run([\"snakemake\", \"--cores\", \"1\", \"parsing_dataR\"])"
   ]
  },
  {
   "cell_type": "markdown",
   "metadata": {},
   "source": [
    "## Changing the config file to do the chromosome 7 "
   ]
  },
  {
   "cell_type": "code",
   "execution_count": 6,
   "metadata": {},
   "outputs": [],
   "source": [
    "changes_chr5_to_7 = [\"6,+12s/chr5/chr7/g\", \"24,+12s/chr5/chr7/g\", \"39s/chr5/chr7/g\",\n",
    "                     \"46s/chromosome.5.fa.gz/chromosome.7.fa.gz/g\", \"65s/APC/BRAF/g\"]\n",
    "for change in changes_chr5_to_7:\n",
    "    subprocess.run([\"sed\", \"-i\", change, \"config.yaml\"])   "
   ]
  },
  {
   "cell_type": "code",
   "execution_count": null,
   "metadata": {},
   "outputs": [],
   "source": [
    "## Running the workflow for the 7º chormosome\n",
    "\n",
    "subprocess.run([\"snakemake\", \"--cores\", \"1\", \"--force\", \"data/reference/genome.fa\"]) ## rule reference_genome \n",
    "\n",
    "for sample in sample_list:\n",
    "    ## Quality inspection\n",
    "    subprocess.run([\"snakemake\", \"--cores\", \"1\", \"--use-conda\",\n",
    "                    \"results/fastqc_result/\" + sample + \"_chr7_1_fastqc.html\",   \n",
    "                    \"data/processed/\" + sample + \"_chr7_1_fastp.fastq.gz\",   \n",
    "                    \"results/fastqc_result/trimmed/\" + sample + \"_chr7_1_fastp_fastqc.html\"])\n",
    "    \n",
    "for sample in sample_list:\n",
    "    ## Mapping reads\n",
    "    subprocess.run([\"snakemake\", \"--cores\", \"1\", \"--use-conda\",\n",
    "                    \"results/mapped_reads/\" + sample + \"_chr7_sorted.sam\",   \n",
    "                    \"results/mapped_reads/bam_files/\" + sample + \"_chr7_sorted.bam\",   \n",
    "                    \"results/mapped_reads/bam_files/\" + sample + \"_chr7_dedup.bam\"])\n",
    "    \n",
    "for sample in sample_list:\n",
    "    # Extracting variants  \n",
    "    subprocess.run([\"snakemake\", \"--cores\", \"1\", \"--use-conda\", \"results/variants/\" + sample + \"_chr7.vcf\"])   \n",
    "\n",
    "## VEP CLI\n",
    "for sample in sample_list:\n",
    "    subprocess.run([\"snakemake\", \"--cores\", \"1\", \"--use-conda\", \"results/variants/vep/\" + sample + \"_chr7.txt\"])\n",
    "\n",
    "## Extracting the gene PIKCA3 from the VEP files\n",
    "subprocess.run([\"snakemake\", \"--cores\", \"1\", \"parsing_dataR\"])"
   ]
  },
  {
   "cell_type": "markdown",
   "metadata": {},
   "source": [
    "## Changing the config file to do the chromosome 12 "
   ]
  },
  {
   "cell_type": "code",
   "execution_count": 7,
   "metadata": {},
   "outputs": [],
   "source": [
    "changes_chr7_to_12 = [\"6,+12s/chr7/chr12/g\", \"24,+12s/chr7/chr12/g\", \"39s/chr7/chr12/g\",\n",
    "                      \"46s/chromosome.7.fa.gz/chromosome.12.fa.gz/g\", \"65s/BRAF/KRAS/g\"]\n",
    "for change in changes_chr7_to_12:\n",
    "    subprocess.run([\"sed\", \"-i\", change, \"config.yaml\"])     "
   ]
  },
  {
   "cell_type": "code",
   "execution_count": null,
   "metadata": {},
   "outputs": [],
   "source": [
    "## Running the workflow for the 12º chormosome\n",
    "\n",
    "subprocess.run([\"snakemake\", \"--cores\", \"1\", \"--force\", \"data/reference/genome.fa\"]) ## rule reference_genome \n",
    "\n",
    "for sample in sample_list:\n",
    "    ## Quality inspection\n",
    "    subprocess.run([\"snakemake\", \"--cores\", \"1\", \"--use-conda\",\n",
    "                    \"results/fastqc_result/\" + sample + \"_chr12_1_fastqc.html\",   \n",
    "                    \"data/processed/\" + sample + \"_chr12_1_fastp.fastq.gz\",   \n",
    "                    \"results/fastqc_result/trimmed/\" + sample + \"_chr12_1_fastp_fastqc.html\"])\n",
    "    \n",
    "for sample in sample_list:\n",
    "    ## Mapping reads\n",
    "    subprocess.run([\"snakemake\", \"--cores\", \"1\", \"--use-conda\",\n",
    "                    \"results/mapped_reads/\" + sample + \"_chr12_sorted.sam\",   \n",
    "                    \"results/mapped_reads/bam_files/\" + sample + \"_chr12_sorted.bam\",   \n",
    "                    \"results/mapped_reads/bam_files/\" + sample + \"_chr12_dedup.bam\"])\n",
    "    \n",
    "for sample in sample_list:\n",
    "    # Extracting variants  \n",
    "    subprocess.run([\"snakemake\", \"--cores\", \"1\", \"--use-conda\", \"results/variants/\" + sample + \"_chr12.vcf\"])   \n",
    "\n",
    "## VEP CLI\n",
    "for sample in sample_list:\n",
    "    subprocess.run([\"snakemake\", \"--cores\", \"1\", \"--use-conda\", \"results/variants/vep/\" + sample + \"_chr12.txt\"])\n",
    "\n",
    "## Extracting the gene PIKCA3 from the VEP files\n",
    "subprocess.run([\"snakemake\", \"--cores\", \"1\", \"parsing_dataR\"])"
   ]
  },
  {
   "cell_type": "markdown",
   "metadata": {},
   "source": [
    "## Changing the config file to do the chromosome 17 "
   ]
  },
  {
   "cell_type": "code",
   "execution_count": 8,
   "metadata": {},
   "outputs": [],
   "source": [
    "changes_chr12_to_17 = [\"6,+12s/chr12/chr17/g\", \"24,+12s/chr12/chr17/g\", \"39s/chr12/chr17/g\",\n",
    "                       \"46s/chromosome.12.fa.gz/chromosome.17.fa.gz/g\", \"65s/KRAS/TP53/g\"]\n",
    "for change in changes_chr12_to_17:\n",
    "    subprocess.run([\"sed\", \"-i\", change, \"config.yaml\"])"
   ]
  },
  {
   "cell_type": "code",
   "execution_count": null,
   "metadata": {},
   "outputs": [],
   "source": [
    "## Running the workflow for the 17º chormosome\n",
    "\n",
    "subprocess.run([\"snakemake\", \"--cores\", \"1\", \"--force\", \"data/reference/genome.fa\"]) ## rule reference_genome \n",
    "\n",
    "for sample in sample_list:\n",
    "    ## Quality inspection\n",
    "    subprocess.run([\"snakemake\", \"--cores\", \"1\", \"--use-conda\",\n",
    "                    \"results/fastqc_result/\" + sample + \"_chr17_1_fastqc.html\",   \n",
    "                    \"data/processed/\" + sample + \"_chr17_1_fastp.fastq.gz\",   \n",
    "                    \"results/fastqc_result/trimmed/\" + sample + \"_chr17_1_fastp_fastqc.html\"])\n",
    "    \n",
    "for sample in sample_list:\n",
    "    ## Mapping reads\n",
    "    subprocess.run([\"snakemake\", \"--cores\", \"1\", \"--use-conda\",\n",
    "                    \"results/mapped_reads/\" + sample + \"_chr17_sorted.sam\",   \n",
    "                    \"results/mapped_reads/bam_files/\" + sample + \"_chr17_sorted.bam\",   \n",
    "                    \"results/mapped_reads/bam_files/\" + sample + \"_chr17_dedup.bam\"])\n",
    "    \n",
    "for sample in sample_list:\n",
    "    # Extracting variants  \n",
    "    subprocess.run([\"snakemake\", \"--cores\", \"1\", \"--use-conda\", \"results/variants/\" + sample + \"_chr17.vcf\"])   \n",
    "\n",
    "## VEP CLI\n",
    "for sample in sample_list:\n",
    "    subprocess.run([\"snakemake\", \"--cores\", \"1\", \"--use-conda\", \"results/variants/vep/\" + sample + \"_chr17.txt\"])\n",
    "\n",
    "## Extracting the gene PIKCA3 from the VEP files\n",
    "subprocess.run([\"snakemake\", \"--cores\", \"1\", \"parsing_dataR\"])"
   ]
  },
  {
   "cell_type": "code",
   "execution_count": 9,
   "metadata": {},
   "outputs": [],
   "source": [
    "## reset config \n",
    "changes_chr17_to_3 = [\"6,+12s/chr17/chr3/g\", \"24,+12s/chr17/chr3/g\", \"39s/chr17/chr3/g\",\n",
    "                      \"46s/chromosome.17.fa.gz/chromosome.3.fa.gz/g\", \"65s/TP53/PIK3CA/g\"]\n",
    "for change in changes_chr17_to_3:\n",
    "    subprocess.run([\"sed\", \"-i\", change, \"config.yaml\"])"
   ]
  },
  {
   "cell_type": "markdown",
   "metadata": {},
   "source": [
    "## **Last rule**\n",
    "\n",
    "### **rule R_plotting**\n",
    "\n",
    "Plotting the data of the 5 gene tables"
   ]
  },
  {
   "cell_type": "code",
   "execution_count": null,
   "metadata": {},
   "outputs": [],
   "source": [
    "subprocess.run([\"snakemake\", \"--cores\", \"1\", \"R_plotting\"])"
   ]
  }
 ],
 "metadata": {
  "kernelspec": {
   "display_name": "Greference_tools",
   "language": "python",
   "name": "python3"
  },
  "language_info": {
   "codemirror_mode": {
    "name": "ipython",
    "version": 3
   },
   "file_extension": ".py",
   "mimetype": "text/x-python",
   "name": "python",
   "nbconvert_exporter": "python",
   "pygments_lexer": "ipython3",
   "version": "3.11.0"
  },
  "orig_nbformat": 4
 },
 "nbformat": 4,
 "nbformat_minor": 2
}
